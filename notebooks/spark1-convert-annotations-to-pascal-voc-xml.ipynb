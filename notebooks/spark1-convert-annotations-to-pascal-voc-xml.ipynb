{
 "cells": [
  {
   "cell_type": "code",
   "execution_count": 1,
   "metadata": {
    "_cell_guid": "b1076dfc-b9ad-4769-8c92-a6c4dae69d19",
    "_uuid": "8f2839f25d086af736a60e9eeb907d3b93b6e0e5",
    "execution": {
     "iopub.execute_input": "2021-01-11T23:58:49.478362Z",
     "iopub.status.busy": "2021-01-11T23:58:49.477628Z",
     "iopub.status.idle": "2021-01-11T23:59:13.943264Z",
     "shell.execute_reply": "2021-01-11T23:59:13.942228Z"
    },
    "papermill": {
     "duration": 24.481072,
     "end_time": "2021-01-11T23:59:13.943405",
     "exception": false,
     "start_time": "2021-01-11T23:58:49.462333",
     "status": "completed"
    },
    "tags": []
   },
   "outputs": [],
   "source": [
    "\n",
    "# Built In Imports\n",
    "import xml.etree.ElementTree as ET\n",
    "from datetime import datetime\n",
    "from glob import glob\n",
    "import warnings\n",
    "import IPython\n",
    "import urllib\n",
    "import zipfile\n",
    "import pickle\n",
    "import shutil\n",
    "import string\n",
    "import math\n",
    "import tqdm\n",
    "import time\n",
    "import os\n",
    "import gc\n",
    "import re\n",
    "\n",
    "# Visualization Imports\n",
    "FIG_FONT = dict(family=\"Helvetica, Arial\", size=14, color=\"#7f7f7f\")\n",
    "from matplotlib.colors import ListedColormap\n",
    "import matplotlib.patches as patches\n",
    "import plotly.graph_objects as go\n",
    "import matplotlib.pyplot as plt\n",
    "import plotly.express as px\n",
    "from lxml import etree\n",
    "import seaborn as sns\n",
    "from PIL import Image\n",
    "import plotly\n",
    "import PIL\n",
    "import cv2\n",
    "\n",
    "# Other Imports\n",
    "#from pydicom.pixel_data_handlers.util import apply_voi_lut\n",
    "from tqdm.notebook import tqdm\n",
    "#import pydicom"
   ]
  },
  {
   "cell_type": "code",
   "execution_count": 2,
   "metadata": {},
   "outputs": [
    {
     "ename": "NameError",
     "evalue": "name 'pd' is not defined",
     "output_type": "error",
     "traceback": [
      "\u001b[1;31m---------------------------------------------------------------------------\u001b[0m",
      "\u001b[1;31mNameError\u001b[0m                                 Traceback (most recent call last)",
      "Cell \u001b[1;32mIn[2], line 1\u001b[0m\n\u001b[1;32m----> 1\u001b[0m pd\u001b[38;5;241m.\u001b[39moptions\u001b[38;5;241m.\u001b[39mmode\u001b[38;5;241m.\u001b[39mchained_assignment\n",
      "\u001b[1;31mNameError\u001b[0m: name 'pd' is not defined"
     ]
    }
   ],
   "source": [
    "pd.options.mode.chained_assignment"
   ]
  },
  {
   "cell_type": "code",
   "execution_count": null,
   "metadata": {},
   "outputs": [],
   "source": [
    "pd.options.mode.chained_assignment = None"
   ]
  },
  {
   "cell_type": "markdown",
   "metadata": {
    "papermill": {
     "duration": 0.014421,
     "end_time": "2021-01-11T23:59:14.833968",
     "exception": false,
     "start_time": "2021-01-11T23:59:14.819547",
     "status": "completed"
    },
    "tags": []
   },
   "source": [
    "<a style=\"text-align: font-family: Verdana; font-size: 24px; font-style: normal; font-weight: bold; text-decoration: none; text-transform: none; letter-spacing: 3px; color: navy; background-color: #ffffff;\" id=\"background_information\">2&nbsp;&nbsp;BACKGROUND INFORMATION</a>\n",
    "\n",
    "* Pascal VOC provides standardized image data sets for object detection. \n",
    "* Pascal VOC is an XML file, unlike COCO which has a JSON file.\n",
    "* In Pascal VOC we create a file for each of the image in the dataset. \n",
    "* The bounding Box in Pascal VOC is formatted as: **(xmin, ymin, xmax, ymax)**\n",
    "\n",
    "**Here is an example**\n",
    "![Example of Pascal VOC Annotation](https://miro.medium.com/max/1130/1*J84PBv70HWVW_tJ2zQwd4g.png)"
   ]
  },
  {
   "cell_type": "code",
   "execution_count": null,
   "metadata": {},
   "outputs": [],
   "source": []
  },
  {
   "cell_type": "code",
   "execution_count": 3,
   "metadata": {},
   "outputs": [
    {
     "data": {
      "text/html": [
       "<div>\n",
       "<style scoped>\n",
       "    .dataframe tbody tr th:only-of-type {\n",
       "        vertical-align: middle;\n",
       "    }\n",
       "\n",
       "    .dataframe tbody tr th {\n",
       "        vertical-align: top;\n",
       "    }\n",
       "\n",
       "    .dataframe thead th {\n",
       "        text-align: right;\n",
       "    }\n",
       "</style>\n",
       "<table border=\"1\" class=\"dataframe\">\n",
       "  <thead>\n",
       "    <tr style=\"text-align: right;\">\n",
       "      <th></th>\n",
       "      <th>filename</th>\n",
       "      <th>class</th>\n",
       "      <th>bbox</th>\n",
       "    </tr>\n",
       "  </thead>\n",
       "  <tbody>\n",
       "    <tr>\n",
       "      <th>0</th>\n",
       "      <td>img055517.png</td>\n",
       "      <td>lisa_pathfinder</td>\n",
       "      <td>[375, 273, 610, 496]</td>\n",
       "    </tr>\n",
       "    <tr>\n",
       "      <th>1</th>\n",
       "      <td>img056814.png</td>\n",
       "      <td>lisa_pathfinder</td>\n",
       "      <td>[678, 302, 811, 448]</td>\n",
       "    </tr>\n",
       "    <tr>\n",
       "      <th>2</th>\n",
       "      <td>img053102.png</td>\n",
       "      <td>lisa_pathfinder</td>\n",
       "      <td>[246, 247, 466, 473]</td>\n",
       "    </tr>\n",
       "    <tr>\n",
       "      <th>3</th>\n",
       "      <td>img053516.png</td>\n",
       "      <td>lisa_pathfinder</td>\n",
       "      <td>[338, 600, 601, 878]</td>\n",
       "    </tr>\n",
       "    <tr>\n",
       "      <th>4</th>\n",
       "      <td>img055023.png</td>\n",
       "      <td>lisa_pathfinder</td>\n",
       "      <td>[545, 408, 762, 596]</td>\n",
       "    </tr>\n",
       "  </tbody>\n",
       "</table>\n",
       "</div>"
      ],
      "text/plain": [
       "        filename            class                  bbox\n",
       "0  img055517.png  lisa_pathfinder  [375, 273, 610, 496]\n",
       "1  img056814.png  lisa_pathfinder  [678, 302, 811, 448]\n",
       "2  img053102.png  lisa_pathfinder  [246, 247, 466, 473]\n",
       "3  img053516.png  lisa_pathfinder  [338, 600, 601, 878]\n",
       "4  img055023.png  lisa_pathfinder  [545, 408, 762, 596]"
      ]
     },
     "execution_count": 3,
     "metadata": {},
     "output_type": "execute_result"
    }
   ],
   "source": [
    "import pandas as pd\n",
    "\n",
    "# Load the val.csv file\n",
    "val_csv_path = '../data/Stream1/labels/val.csv'\n",
    "val_df = pd.read_csv(val_csv_path)\n",
    "\n",
    "# Display the first few rows of the dataframe\n",
    "val_df.head()\n"
   ]
  },
  {
   "cell_type": "code",
   "execution_count": 4,
   "metadata": {},
   "outputs": [
    {
     "data": {
      "text/html": [
       "<div>\n",
       "<style scoped>\n",
       "    .dataframe tbody tr th:only-of-type {\n",
       "        vertical-align: middle;\n",
       "    }\n",
       "\n",
       "    .dataframe tbody tr th {\n",
       "        vertical-align: top;\n",
       "    }\n",
       "\n",
       "    .dataframe thead th {\n",
       "        text-align: right;\n",
       "    }\n",
       "</style>\n",
       "<table border=\"1\" class=\"dataframe\">\n",
       "  <thead>\n",
       "    <tr style=\"text-align: right;\">\n",
       "      <th></th>\n",
       "      <th>filename</th>\n",
       "      <th>class</th>\n",
       "      <th>bbox</th>\n",
       "    </tr>\n",
       "  </thead>\n",
       "  <tbody>\n",
       "    <tr>\n",
       "      <th>0</th>\n",
       "      <td>img086351.png</td>\n",
       "      <td>smart_1</td>\n",
       "      <td>[183, 311, 657, 415]</td>\n",
       "    </tr>\n",
       "    <tr>\n",
       "      <th>1</th>\n",
       "      <td>img083734.png</td>\n",
       "      <td>smart_1</td>\n",
       "      <td>[361, 352, 479, 716]</td>\n",
       "    </tr>\n",
       "    <tr>\n",
       "      <th>2</th>\n",
       "      <td>img081317.png</td>\n",
       "      <td>smart_1</td>\n",
       "      <td>[163, 16, 905, 785]</td>\n",
       "    </tr>\n",
       "    <tr>\n",
       "      <th>3</th>\n",
       "      <td>img089140.png</td>\n",
       "      <td>smart_1</td>\n",
       "      <td>[188, 427, 499, 573]</td>\n",
       "    </tr>\n",
       "    <tr>\n",
       "      <th>4</th>\n",
       "      <td>img082379.png</td>\n",
       "      <td>smart_1</td>\n",
       "      <td>[152, 462, 1024, 605]</td>\n",
       "    </tr>\n",
       "  </tbody>\n",
       "</table>\n",
       "</div>"
      ],
      "text/plain": [
       "        filename    class                   bbox\n",
       "0  img086351.png  smart_1   [183, 311, 657, 415]\n",
       "1  img083734.png  smart_1   [361, 352, 479, 716]\n",
       "2  img081317.png  smart_1    [163, 16, 905, 785]\n",
       "3  img089140.png  smart_1   [188, 427, 499, 573]\n",
       "4  img082379.png  smart_1  [152, 462, 1024, 605]"
      ]
     },
     "execution_count": 4,
     "metadata": {},
     "output_type": "execute_result"
    }
   ],
   "source": [
    "import pandas as pd\n",
    "\n",
    "# Load the train.csv file\n",
    "train_csv_path = '../data/Stream1/labels/train.csv'\n",
    "train_df = pd.read_csv(train_csv_path)\n",
    "\n",
    "# Display the first few rows of the dataframe\n",
    "train_df.head()\n"
   ]
  },
  {
   "cell_type": "code",
   "execution_count": 6,
   "metadata": {},
   "outputs": [
    {
     "data": {
      "text/html": [
       "<div>\n",
       "<style scoped>\n",
       "    .dataframe tbody tr th:only-of-type {\n",
       "        vertical-align: middle;\n",
       "    }\n",
       "\n",
       "    .dataframe tbody tr th {\n",
       "        vertical-align: top;\n",
       "    }\n",
       "\n",
       "    .dataframe thead th {\n",
       "        text-align: right;\n",
       "    }\n",
       "</style>\n",
       "<table border=\"1\" class=\"dataframe\">\n",
       "  <thead>\n",
       "    <tr style=\"text-align: right;\">\n",
       "      <th></th>\n",
       "      <th>filename</th>\n",
       "      <th>class</th>\n",
       "      <th>bbox</th>\n",
       "    </tr>\n",
       "  </thead>\n",
       "  <tbody>\n",
       "    <tr>\n",
       "      <th>0</th>\n",
       "      <td>img051616.png</td>\n",
       "      <td>lisa_pathfinder</td>\n",
       "      <td>[123, 699, 427, 1024]</td>\n",
       "    </tr>\n",
       "    <tr>\n",
       "      <th>1</th>\n",
       "      <td>img013814.png</td>\n",
       "      <td>cheops</td>\n",
       "      <td>[411, 663, 670, 910]</td>\n",
       "    </tr>\n",
       "    <tr>\n",
       "      <th>2</th>\n",
       "      <td>img059033.png</td>\n",
       "      <td>lisa_pathfinder</td>\n",
       "      <td>[212, 623, 313, 733]</td>\n",
       "    </tr>\n",
       "    <tr>\n",
       "      <th>3</th>\n",
       "      <td>img030819.png</td>\n",
       "      <td>double_star</td>\n",
       "      <td>[27, 339, 1024, 736]</td>\n",
       "    </tr>\n",
       "    <tr>\n",
       "      <th>4</th>\n",
       "      <td>img052131.png</td>\n",
       "      <td>lisa_pathfinder</td>\n",
       "      <td>[423, 563, 645, 797]</td>\n",
       "    </tr>\n",
       "  </tbody>\n",
       "</table>\n",
       "</div>"
      ],
      "text/plain": [
       "        filename            class                   bbox\n",
       "0  img051616.png  lisa_pathfinder  [123, 699, 427, 1024]\n",
       "1  img013814.png           cheops   [411, 663, 670, 910]\n",
       "2  img059033.png  lisa_pathfinder   [212, 623, 313, 733]\n",
       "3  img030819.png      double_star   [27, 339, 1024, 736]\n",
       "4  img052131.png  lisa_pathfinder   [423, 563, 645, 797]"
      ]
     },
     "execution_count": 6,
     "metadata": {},
     "output_type": "execute_result"
    }
   ],
   "source": [
    "import pandas as pd\n",
    "\n",
    "# Load the train.csv file\n",
    "test_csv_path = '../data/Stream1/labels/test.csv'\n",
    "test_df = pd.read_csv(test_csv_path)\n",
    "\n",
    "# Display the first few rows of the dataframe\n",
    "test_df.head()\n"
   ]
  },
  {
   "cell_type": "code",
   "execution_count": null,
   "metadata": {},
   "outputs": [],
   "source": []
  },
  {
   "cell_type": "code",
   "execution_count": 7,
   "metadata": {},
   "outputs": [
    {
     "name": "stdout",
     "output_type": "stream",
     "text": [
      "<annotation>\n",
      "\t<folder></folder>\n",
      "\t<filename>{filename}</filename>\n",
      "\t<path>{filename}</path>\n",
      "\t<source>\n",
      "\t\t<database>Spark.Stream1</database>\n",
      "\t</source>\n",
      "\t<size>\n",
      "\t\t<width>1024</width>\n",
      "\t\t<height>1024</height>\n",
      "\t\t<depth>3</depth>\n",
      "\t</size>\n",
      "\t<segmented>0</segmented>\n",
      "\t<object>\n",
      "\t\t<name>{class}</name>\n",
      "\t\t<pose>Unspecified</pose>\n",
      "\t\t<truncated>0</truncated>\n",
      "\t\t<difficult>0</difficult>\n",
      "\t\t<occluded>0</occluded>\n",
      "\t\t<bndbox>\n",
      "\t\t\t<ymin>{bbox[0]}</ymin>\n",
      "\t\t\t<xmin>{bbox[1]}</xmin>\n",
      "\t\t\t<ymax>{bbox[2]}</ymax>\n",
      "\t\t\t<xmax>{bbox[3]}</xmax>\n",
      "\t\t</bndbox>\n",
      "\t</object>\n",
      "</annotation>\n",
      "\n"
     ]
    }
   ],
   "source": [
    "# Load the pascal_template.xml file\n",
    "template_xml_path = './pascal_template.xml'\n",
    "\n",
    "with open(template_xml_path, 'r') as file:\n",
    "    template_xml = file.read()\n",
    "\n",
    "print(template_xml)\n"
   ]
  },
  {
   "cell_type": "code",
   "execution_count": null,
   "metadata": {},
   "outputs": [],
   "source": []
  },
  {
   "cell_type": "code",
   "execution_count": 8,
   "metadata": {},
   "outputs": [],
   "source": [
    "import os\n",
    "import xml.etree.ElementTree as ET\n",
    "from xml.dom import minidom\n",
    "\n",
    "def create_xml_file(row, template, output_dir):\n",
    "    \"\"\"\n",
    "    Create an XML file based on the template and the provided row data.\n",
    "\n",
    "    :param row: A row from the dataframe containing filename, class, and bbox.\n",
    "    :param template: XML template as a string.\n",
    "    :param output_dir: Directory to save the XML files.\n",
    "    \"\"\"\n",
    "    # Replace filename (with .jpg extension) in the template\n",
    "    filename_jpg = row['filename'].replace('.png', '.jpg')\n",
    "    xml_content = template.replace('{filename}', filename_jpg)\n",
    "\n",
    "    # Replace class in the template\n",
    "    xml_content = xml_content.replace('{class}', row['class'])\n",
    "\n",
    "    # Replace bounding box values in the template\n",
    "    bbox = eval(row['bbox'])  # Convert string representation of list to actual list\n",
    "    for i in range(4):\n",
    "        xml_content = xml_content.replace(f'{{bbox[{i}]}}', str(bbox[i]))\n",
    "\n",
    "    # Parse the modified XML content\n",
    "    xml_tree = ET.ElementTree(ET.fromstring(xml_content))\n",
    "\n",
    "    # Create the XML file\n",
    "    xml_filename = os.path.join(output_dir, row['filename'].replace('.png', '.xml'))\n",
    "    xml_tree.write(xml_filename)\n",
    "\n",
    "    return xml_filename\n",
    "\n"
   ]
  },
  {
   "cell_type": "code",
   "execution_count": null,
   "metadata": {},
   "outputs": [],
   "source": []
  },
  {
   "cell_type": "code",
   "execution_count": 9,
   "metadata": {},
   "outputs": [
    {
     "data": {
      "text/plain": [
       "22000"
      ]
     },
     "execution_count": 9,
     "metadata": {},
     "output_type": "execute_result"
    }
   ],
   "source": [
    "# Directory to save the XML files\n",
    "output_dir = './val'\n",
    "os.makedirs(output_dir, exist_ok=True)\n",
    "\n",
    "# Generate XML files\n",
    "xml_files = [create_xml_file(row, template_xml, output_dir) for index, row in val_df.iterrows()]\n",
    "\n",
    "# Return the list of generated XML file paths\n",
    "len(xml_files)\n"
   ]
  },
  {
   "cell_type": "code",
   "execution_count": null,
   "metadata": {},
   "outputs": [],
   "source": []
  },
  {
   "cell_type": "code",
   "execution_count": 10,
   "metadata": {},
   "outputs": [
    {
     "data": {
      "text/plain": [
       "66000"
      ]
     },
     "execution_count": 10,
     "metadata": {},
     "output_type": "execute_result"
    }
   ],
   "source": [
    "# Directory to save the XML files\n",
    "output_dir = './train'\n",
    "os.makedirs(output_dir, exist_ok=True)\n",
    "\n",
    "# Generate XML files\n",
    "xml_files = [create_xml_file(row, template_xml, output_dir) for index, row in train_df.iterrows()]\n",
    "\n",
    "# Return the list of generated XML file paths\n",
    "len(xml_files)\n"
   ]
  },
  {
   "cell_type": "code",
   "execution_count": 11,
   "metadata": {},
   "outputs": [
    {
     "data": {
      "text/plain": [
       "22000"
      ]
     },
     "execution_count": 11,
     "metadata": {},
     "output_type": "execute_result"
    }
   ],
   "source": [
    "# Directory to save the XML files\n",
    "output_dir = './test'\n",
    "os.makedirs(output_dir, exist_ok=True)\n",
    "\n",
    "# Generate XML files\n",
    "xml_files = [create_xml_file(row, template_xml, output_dir) for index, row in test_df.iterrows()]\n",
    "\n",
    "# Return the list of generated XML file paths\n",
    "len(xml_files)\n"
   ]
  },
  {
   "cell_type": "code",
   "execution_count": null,
   "metadata": {},
   "outputs": [],
   "source": []
  },
  {
   "cell_type": "code",
   "execution_count": null,
   "metadata": {},
   "outputs": [],
   "source": []
  }
 ],
 "metadata": {
  "hide_input": false,
  "kernelspec": {
   "display_name": "Python 3 (ipykernel)",
   "language": "python",
   "name": "python3"
  },
  "language_info": {
   "codemirror_mode": {
    "name": "ipython",
    "version": 3
   },
   "file_extension": ".py",
   "mimetype": "text/x-python",
   "name": "python",
   "nbconvert_exporter": "python",
   "pygments_lexer": "ipython3",
   "version": "3.11.5"
  },
  "papermill": {
   "duration": 2470.373363,
   "end_time": "2021-01-12T00:39:54.508394",
   "environment_variables": {},
   "exception": null,
   "input_path": "__notebook__.ipynb",
   "output_path": "__notebook__.ipynb",
   "parameters": {},
   "start_time": "2021-01-11T23:58:44.135031",
   "version": "2.1.0"
  },
  "toc": {
   "base_numbering": 1,
   "nav_menu": {},
   "number_sections": true,
   "sideBar": true,
   "skip_h1_title": false,
   "title_cell": "Table of Contents",
   "title_sidebar": "Contents",
   "toc_cell": false,
   "toc_position": {},
   "toc_section_display": true,
   "toc_window_display": false
  },
  "widgets": {
   "application/vnd.jupyter.widget-state+json": {
    "state": {
     "1768b89632e4447c807d5de016dc7590": {
      "model_module": "@jupyter-widgets/base",
      "model_module_version": "1.2.0",
      "model_name": "LayoutModel",
      "state": {
       "_model_module": "@jupyter-widgets/base",
       "_model_module_version": "1.2.0",
       "_model_name": "LayoutModel",
       "_view_count": null,
       "_view_module": "@jupyter-widgets/base",
       "_view_module_version": "1.2.0",
       "_view_name": "LayoutView",
       "align_content": null,
       "align_items": null,
       "align_self": null,
       "border": null,
       "bottom": null,
       "display": null,
       "flex": null,
       "flex_flow": null,
       "grid_area": null,
       "grid_auto_columns": null,
       "grid_auto_flow": null,
       "grid_auto_rows": null,
       "grid_column": null,
       "grid_gap": null,
       "grid_row": null,
       "grid_template_areas": null,
       "grid_template_columns": null,
       "grid_template_rows": null,
       "height": null,
       "justify_content": null,
       "justify_items": null,
       "left": null,
       "margin": null,
       "max_height": null,
       "max_width": null,
       "min_height": null,
       "min_width": null,
       "object_fit": null,
       "object_position": null,
       "order": null,
       "overflow": null,
       "overflow_x": null,
       "overflow_y": null,
       "padding": null,
       "right": null,
       "top": null,
       "visibility": null,
       "width": null
      }
     },
     "36898a1bb1ae4966ace69be92f309c38": {
      "model_module": "@jupyter-widgets/controls",
      "model_module_version": "1.5.0",
      "model_name": "HBoxModel",
      "state": {
       "_dom_classes": [],
       "_model_module": "@jupyter-widgets/controls",
       "_model_module_version": "1.5.0",
       "_model_name": "HBoxModel",
       "_view_count": null,
       "_view_module": "@jupyter-widgets/controls",
       "_view_module_version": "1.5.0",
       "_view_name": "HBoxView",
       "box_style": "",
       "children": [
        "IPY_MODEL_c225b755212b444a8e00f06a596f93cd",
        "IPY_MODEL_da7e239d74344138be3c2d5082bd65a2"
       ],
       "layout": "IPY_MODEL_aaade013b2f24dddaa23ccd499da29c0"
      }
     },
     "48588edd2e21421da8edb91143767230": {
      "model_module": "@jupyter-widgets/controls",
      "model_module_version": "1.5.0",
      "model_name": "DescriptionStyleModel",
      "state": {
       "_model_module": "@jupyter-widgets/controls",
       "_model_module_version": "1.5.0",
       "_model_name": "DescriptionStyleModel",
       "_view_count": null,
       "_view_module": "@jupyter-widgets/base",
       "_view_module_version": "1.2.0",
       "_view_name": "StyleView",
       "description_width": ""
      }
     },
     "922c7ca4cd9047c9bff0006cfb83aaac": {
      "model_module": "@jupyter-widgets/base",
      "model_module_version": "1.2.0",
      "model_name": "LayoutModel",
      "state": {
       "_model_module": "@jupyter-widgets/base",
       "_model_module_version": "1.2.0",
       "_model_name": "LayoutModel",
       "_view_count": null,
       "_view_module": "@jupyter-widgets/base",
       "_view_module_version": "1.2.0",
       "_view_name": "LayoutView",
       "align_content": null,
       "align_items": null,
       "align_self": null,
       "border": null,
       "bottom": null,
       "display": null,
       "flex": null,
       "flex_flow": null,
       "grid_area": null,
       "grid_auto_columns": null,
       "grid_auto_flow": null,
       "grid_auto_rows": null,
       "grid_column": null,
       "grid_gap": null,
       "grid_row": null,
       "grid_template_areas": null,
       "grid_template_columns": null,
       "grid_template_rows": null,
       "height": null,
       "justify_content": null,
       "justify_items": null,
       "left": null,
       "margin": null,
       "max_height": null,
       "max_width": null,
       "min_height": null,
       "min_width": null,
       "object_fit": null,
       "object_position": null,
       "order": null,
       "overflow": null,
       "overflow_x": null,
       "overflow_y": null,
       "padding": null,
       "right": null,
       "top": null,
       "visibility": null,
       "width": null
      }
     },
     "aaade013b2f24dddaa23ccd499da29c0": {
      "model_module": "@jupyter-widgets/base",
      "model_module_version": "1.2.0",
      "model_name": "LayoutModel",
      "state": {
       "_model_module": "@jupyter-widgets/base",
       "_model_module_version": "1.2.0",
       "_model_name": "LayoutModel",
       "_view_count": null,
       "_view_module": "@jupyter-widgets/base",
       "_view_module_version": "1.2.0",
       "_view_name": "LayoutView",
       "align_content": null,
       "align_items": null,
       "align_self": null,
       "border": null,
       "bottom": null,
       "display": null,
       "flex": null,
       "flex_flow": null,
       "grid_area": null,
       "grid_auto_columns": null,
       "grid_auto_flow": null,
       "grid_auto_rows": null,
       "grid_column": null,
       "grid_gap": null,
       "grid_row": null,
       "grid_template_areas": null,
       "grid_template_columns": null,
       "grid_template_rows": null,
       "height": null,
       "justify_content": null,
       "justify_items": null,
       "left": null,
       "margin": null,
       "max_height": null,
       "max_width": null,
       "min_height": null,
       "min_width": null,
       "object_fit": null,
       "object_position": null,
       "order": null,
       "overflow": null,
       "overflow_x": null,
       "overflow_y": null,
       "padding": null,
       "right": null,
       "top": null,
       "visibility": null,
       "width": null
      }
     },
     "c225b755212b444a8e00f06a596f93cd": {
      "model_module": "@jupyter-widgets/controls",
      "model_module_version": "1.5.0",
      "model_name": "FloatProgressModel",
      "state": {
       "_dom_classes": [],
       "_model_module": "@jupyter-widgets/controls",
       "_model_module_version": "1.5.0",
       "_model_name": "FloatProgressModel",
       "_view_count": null,
       "_view_module": "@jupyter-widgets/controls",
       "_view_module_version": "1.5.0",
       "_view_name": "ProgressView",
       "bar_style": "success",
       "description": "100%",
       "description_tooltip": null,
       "layout": "IPY_MODEL_1768b89632e4447c807d5de016dc7590",
       "max": 14948,
       "min": 0,
       "orientation": "horizontal",
       "style": "IPY_MODEL_e0f512e6b9a448e5b39049f87e4bd19e",
       "value": 14948
      }
     },
     "da7e239d74344138be3c2d5082bd65a2": {
      "model_module": "@jupyter-widgets/controls",
      "model_module_version": "1.5.0",
      "model_name": "HTMLModel",
      "state": {
       "_dom_classes": [],
       "_model_module": "@jupyter-widgets/controls",
       "_model_module_version": "1.5.0",
       "_model_name": "HTMLModel",
       "_view_count": null,
       "_view_module": "@jupyter-widgets/controls",
       "_view_module_version": "1.5.0",
       "_view_name": "HTMLView",
       "description": "",
       "description_tooltip": null,
       "layout": "IPY_MODEL_922c7ca4cd9047c9bff0006cfb83aaac",
       "placeholder": "​",
       "style": "IPY_MODEL_48588edd2e21421da8edb91143767230",
       "value": " 14948/14948 [40:36&lt;00:00,  6.14it/s]"
      }
     },
     "e0f512e6b9a448e5b39049f87e4bd19e": {
      "model_module": "@jupyter-widgets/controls",
      "model_module_version": "1.5.0",
      "model_name": "ProgressStyleModel",
      "state": {
       "_model_module": "@jupyter-widgets/controls",
       "_model_module_version": "1.5.0",
       "_model_name": "ProgressStyleModel",
       "_view_count": null,
       "_view_module": "@jupyter-widgets/base",
       "_view_module_version": "1.2.0",
       "_view_name": "StyleView",
       "bar_color": null,
       "description_width": "initial"
      }
     }
    },
    "version_major": 2,
    "version_minor": 0
   }
  }
 },
 "nbformat": 4,
 "nbformat_minor": 4
}
